{
    "cells": [
        {
            "cell_type": "markdown",
            "metadata": {},
            "source": "# Battle of the Neighborhoods - Week 1\n### IBM Coursera Data Science Specialization - Applied Capstone Project"
        },
        {
            "cell_type": "markdown",
            "metadata": {},
            "source": "## A. Introduction\n\n### 1. Background\nMr. John Smith is a senior executive at ACME Widgets Inc in Southern California, USA. ACME has experienced severe downturn in its business due to the COVID-19 pandemic and is planning to close its facilities in the state. The company has offered Mr. Smith the choice of being laid off or relocating to it's offices in the city of Austin in the state of Texas. Mr. Smith has opted to relocate to Austin.\n\n### 2. The problem\nMr. Smith has visited Austin a couple of times for business. He is not familiar with the neighborhoods in the city. Ideally, he would like to rent or buy a home in a neighborhood similar to the one he currently resides in - Westpark, in the city of Irvine in California. He could consult with real estate agents (realtors) in Austin for their opinions on neighborhoods and make a choice based on the feedback. However, the opinions are likely to be biased or highly subjective. It is also unlikely that any of the Austin realtors know about the Westpark neigborhood.  Therefore, Mr. Smith would like a recommendation on Austin neighborhoods based on data analysis, which he can compare with the recommendations of realtors in the city."
        },
        {
            "cell_type": "markdown",
            "metadata": {},
            "source": "## B. The Data \nTo provide Mr. Smith with an objective, analytical recommendation, geospatial data from Foursquare and other sources will be used in the analysis.\n\nThe following datasets will be used:\n\n| Data Description | Data Source  \n| :--- | :---\n| 1. Neighborhoods in Austin | https://en.wikipedia.org/wiki/List_of_Austin_neighborhoods\n| 2. Geographical coordinate data for neighborhoods in Austin | Nominatim\n| 3. Geographical coordinate data for Westpark | Nominatim\n| 4. Top 100 venues for Austin neighborhoods | Foursquare\n| 5. Top 100 venues for Westpark | Foursquare\n\n<br>\n<br>\n\n**Data preparation**\n\n1. Create a data frame of neighborhoods in Austin with latitude and longitude\n2. Append data for Westpark to the dataframe\n3. Get top 100 venues for the neighborhoods\n<br>\n\n**Analytical Approach**\n\nThe objective is to classify Austin neighborhoods into groups or clusters based on the features of each neighborhood. This will identify the types of neighborhoods in Austin. Since we are trying to identify groups that have not been labelled, the K-means clustering algorithm will be used. By including Westpark as a \"Austin neighborhood\", we will be able to see which cluster it is included in for a given optimal K clusters. The optimal K will be determined using the elbow method.\n\nThe list of Austin neighborhoods with the same cluster label as Westpark will be recommended to Mr. Smith as the most likely candidates for his relocation plans.\n\nData Analysis Steps\n\n- Fit the data to K-means for 1 to 15 clusters\n- Identify optimal number of clusters using elbow method\n- Fit the data for optimal number of clusters determined by elbow method in step 2\n- Visualize clusters on 2D chart\n- Visualize location of clusters on map of Austin\n- List the neighborhoods in Austin in the same cluster as Westpark, ranked in ascending order of distance to the cluster centroid"
        }
    ],
    "metadata": {
        "kernelspec": {
            "display_name": "Python 3.7",
            "language": "python",
            "name": "python3"
        },
        "language_info": {
            "codemirror_mode": {
                "name": "ipython",
                "version": 3
            },
            "file_extension": ".py",
            "mimetype": "text/x-python",
            "name": "python",
            "nbconvert_exporter": "python",
            "pygments_lexer": "ipython3",
            "version": "3.7.9"
        }
    },
    "nbformat": 4,
    "nbformat_minor": 4
}